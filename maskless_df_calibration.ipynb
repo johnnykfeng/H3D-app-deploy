{
 "cells": [
  {
   "cell_type": "code",
   "execution_count": 1,
   "metadata": {},
   "outputs": [
    {
     "name": "stdout",
     "output_type": "stream",
     "text": [
      "You entered a .xlsx file\n",
      "Found Z:\\R&D\\H3D_Mapper_Data\\x-scan-test_ALL_DATA\\x-scan-test.csv, load that instead.\n",
      "<class 'pandas.core.series.Series'>\n",
      "maskless_counts.values = array([1.008e+03, 9.710e+02, 7.200e+01, 6.240e+02, 1.000e-01, 7.000e+00,\n",
      "       1.009e+03, 9.610e+02, 7.020e+02, 5.050e+02, 1.190e+02, 1.081e+03,\n",
      "       5.490e+02, 1.058e+03, 2.500e+01, 7.480e+02, 1.230e+03, 3.530e+02,\n",
      "       4.100e+02, 2.400e+02, 2.940e+02, 4.840e+02, 6.720e+02, 1.038e+03,\n",
      "       9.610e+02, 1.107e+03, 7.940e+02, 9.940e+02, 1.217e+03, 5.480e+02,\n",
      "       2.820e+02, 5.000e+00, 2.220e+02, 1.185e+03, 1.820e+02, 9.710e+02,\n",
      "       8.720e+02, 6.000e+00, 1.139e+03, 9.070e+02, 1.600e+02, 2.450e+02,\n",
      "       3.510e+02, 4.420e+02, 9.910e+02, 9.590e+02, 7.030e+02, 8.580e+02,\n",
      "       9.680e+02, 5.040e+02, 5.500e+02, 7.020e+02, 4.660e+02, 1.760e+02,\n",
      "       9.330e+02, 4.330e+02, 8.500e+02, 5.600e+01, 1.094e+03, 9.920e+02,\n",
      "       7.310e+02, 6.820e+02, 4.900e+01, 7.010e+02, 4.620e+02, 1.057e+03,\n",
      "       1.068e+03, 1.196e+03, 8.540e+02, 9.430e+02, 5.890e+02, 6.750e+02,\n",
      "       8.110e+02, 7.500e+01, 9.350e+02, 1.118e+03, 4.230e+02, 2.810e+02,\n",
      "       1.070e+03, 1.137e+03, 4.930e+02, 9.490e+02, 8.880e+02, 1.125e+03,\n",
      "       1.211e+03, 1.164e+03, 1.272e+03, 2.600e+02, 1.000e-01, 1.011e+03,\n",
      "       7.990e+02, 9.610e+02, 1.020e+03, 1.039e+03, 1.290e+03, 2.320e+02,\n",
      "       1.235e+03, 1.093e+03, 8.700e+02, 1.730e+02, 6.880e+02, 5.530e+02,\n",
      "       6.510e+02, 1.311e+03, 2.890e+02, 1.224e+03, 1.310e+03, 1.497e+03,\n",
      "       7.360e+02, 5.660e+02, 6.000e+00, 3.400e+02, 8.870e+02, 3.020e+02,\n",
      "       8.000e+00, 7.610e+02, 1.233e+03, 1.870e+02, 6.500e+02, 5.000e+00,\n",
      "       2.360e+02])\n"
     ]
    },
    {
     "name": "stderr",
     "output_type": "stream",
     "text": [
      "C:\\Users\\10552\\AppData\\Local\\Temp\\ipykernel_3676\\1126824275.py:30: SettingWithCopyWarning: \n",
      "A value is trying to be set on a copy of a slice from a DataFrame\n",
      "\n",
      "See the caveats in the documentation: https://pandas.pydata.org/pandas-docs/stable/user_guide/indexing.html#returning-a-view-versus-a-copy\n",
      "  maskless_counts[maskless_counts == 0] = 0.1\n",
      "C:\\Users\\10552\\AppData\\Local\\Temp\\ipykernel_3676\\1126824275.py:30: FutureWarning: Setting an item of incompatible dtype is deprecated and will raise an error in a future version of pandas. Value '0.1' has dtype incompatible with int32, please explicitly cast to a compatible dtype first.\n",
      "  maskless_counts[maskless_counts == 0] = 0.1\n"
     ]
    }
   ],
   "source": [
    "\n",
    "import dash\n",
    "from dash import dcc, html\n",
    "from dash.dependencies import Input, Output\n",
    "from data_handling_modules import (\n",
    "    ExtractModule,\n",
    "    TransformDf,\n",
    ")\n",
    "from plotting_modules import (\n",
    "    create_spectrum_average,\n",
    "    create_spectrum_pixel,\n",
    "    create_pixelized_heatmap,\n",
    ")\n",
    "\n",
    "# data_file = r\"data_analysis\\Co57_2mins_2000V_20cycles.csv\"\n",
    "# data_file = r\"data\\\\Co57_2mins_2000V_20cycles_yaxis.csv\"\n",
    "data_file = r\"Z:\\R&D\\H3D_Mapper_Data\\x-scan-test_ALL_DATA\\x-scan-test.xlsx\"\n",
    "# data_file = r\"Z:\\R&D\\H3D_Mapper_Data\\yscan-60s_ALL_DATA\\yscan-60s.csv\"\n",
    "# data_file = r\"Z:\\R&D\\H3D_Mapper_Data\\yscan-5min-2mm-b_ALL_DATA\\yscan-5min-2mm-b.xlsx\"\n",
    "# data_file = r\"Z:\\R&D\\H3D_Mapper_Data\\yscan-5min-2mm-b_ALL_DATA\\yscan-5min-2mm-b.csv\"\n",
    "\n",
    "EM = ExtractModule(data_file)\n",
    "\n",
    "extracted_df_list = EM.extract_all_modules2df()\n",
    "TD = TransformDf()\n",
    "df_transformed_list = TD.transform_all_df(extracted_df_list)\n",
    "\n",
    "df_background = df_transformed_list[0]\n",
    "df_maskless = df_transformed_list[1]\n",
    "maskless_counts = df_maskless['total_count']\n",
    "# zero_filter = df_maskless['total_count'] <= 0\n",
    "maskless_counts[maskless_counts == 0] = 0.1\n",
    "print(type(maskless_counts))\n",
    "print(f\"{maskless_counts.values = }\")"
   ]
  },
  {
   "cell_type": "code",
   "execution_count": 3,
   "metadata": {},
   "outputs": [
    {
     "name": "stdout",
     "output_type": "stream",
     "text": [
      "df['total_count'].head() = 1    0.0\n",
      "2    0.0\n",
      "3    0.0\n",
      "4    0.0\n",
      "5    0.0\n",
      "Name: total_count, dtype: float64\n",
      "df['total_count'].head() = 1    1.0\n",
      "2    1.0\n",
      "3    1.0\n",
      "4    1.0\n",
      "5    1.0\n",
      "Name: total_count, dtype: float64\n",
      "df['total_count'].head() = 1    0.136905\n",
      "2    0.021627\n",
      "3    0.194444\n",
      "4    0.737179\n",
      "5    0.000000\n",
      "Name: total_count, dtype: float64\n",
      "df['total_count'].head() = 1     0.079365\n",
      "2     0.019567\n",
      "3     0.152778\n",
      "4     0.450321\n",
      "5    10.000000\n",
      "Name: total_count, dtype: float64\n",
      "df['total_count'].head() = 1    0.036706\n",
      "2    0.027806\n",
      "3    0.069444\n",
      "4    0.097756\n",
      "5    0.000000\n",
      "Name: total_count, dtype: float64\n",
      "df['total_count'].head() = 1    0.245040\n",
      "2    0.322348\n",
      "3    0.208333\n",
      "4    0.350962\n",
      "5    0.000000\n",
      "Name: total_count, dtype: float64\n",
      "df['total_count'].head() = 1    1.061508\n",
      "2    1.093718\n",
      "3    1.458333\n",
      "4    1.113782\n",
      "5    0.000000\n",
      "Name: total_count, dtype: float64\n"
     ]
    }
   ],
   "source": [
    "for df in df_transformed_list:\n",
    "    df['total_count'] = df['total_count'] / maskless_counts\n",
    "    print(f\"{df['total_count'].head() = }\")"
   ]
  },
  {
   "cell_type": "code",
   "execution_count": null,
   "metadata": {},
   "outputs": [],
   "source": []
  },
  {
   "cell_type": "code",
   "execution_count": null,
   "metadata": {},
   "outputs": [],
   "source": []
  },
  {
   "cell_type": "code",
   "execution_count": null,
   "metadata": {},
   "outputs": [],
   "source": []
  },
  {
   "cell_type": "code",
   "execution_count": null,
   "metadata": {},
   "outputs": [],
   "source": []
  }
 ],
 "metadata": {
  "kernelspec": {
   "display_name": ".venv",
   "language": "python",
   "name": "python3"
  },
  "language_info": {
   "codemirror_mode": {
    "name": "ipython",
    "version": 3
   },
   "file_extension": ".py",
   "mimetype": "text/x-python",
   "name": "python",
   "nbconvert_exporter": "python",
   "pygments_lexer": "ipython3",
   "version": "3.11.6"
  }
 },
 "nbformat": 4,
 "nbformat_minor": 2
}
