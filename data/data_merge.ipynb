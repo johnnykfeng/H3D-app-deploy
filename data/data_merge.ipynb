{
 "cells": [
  {
   "cell_type": "code",
   "execution_count": 189,
   "metadata": {},
   "outputs": [
    {
     "name": "stdout",
     "output_type": "stream",
     "text": [
      "Hello, World!\n"
     ]
    }
   ],
   "source": [
    "import os\n",
    "import numpy as np\n",
    "import pandas as pd\n",
    "import sys\n",
    "# Add root directory to sys.path to import ExtractModule\n",
    "sys.path.append(r\"C:\\Users\\10552\\OneDrive - Redlen Technologies\\Code\\H3D-app-deploy\")\n",
    "from Extract_module import ExtractModule, TransformDf\n",
    "from icecream import ic\n",
    "from spectrum_peak_finder import PeakFinder\n",
    "\n",
    "print(\"Hello, World!\")"
   ]
  },
  {
   "cell_type": "code",
   "execution_count": 190,
   "metadata": {},
   "outputs": [],
   "source": [
    "import os\n",
    "def find_csv_files(directory):\n",
    "    csv_files = []\n",
    "    for root, dirs, files in os.walk(directory):\n",
    "        for file in files:\n",
    "            if file.endswith('.csv'):\n",
    "                csv_files.append(os.path.join(root, file))\n",
    "    return csv_files"
   ]
  },
  {
   "cell_type": "code",
   "execution_count": 191,
   "metadata": {},
   "outputs": [],
   "source": [
    "def crop_roi(array, crop_center, crop_halfwidth=40):\n",
    "    bin_range = [crop_center - crop_halfwidth, crop_center + crop_halfwidth]\n",
    "    cropped_array = array[bin_range[0]:bin_range[1]]\n",
    "    return cropped_array\n",
    "\n",
    "def find_peak_bin(array, crop_center, crop_halfwidth=40):\n",
    "    cropped_array = crop_roi(array, crop_center, crop_halfwidth)\n",
    "    bin_max = np.argmax(cropped_array) + crop_center - crop_halfwidth\n",
    "    return bin_max\n",
    "\n",
    "def find_peak_height(array, crop_center, crop_halfwidth=40):\n",
    "    cropped_array = crop_roi(array, crop_center, crop_halfwidth)\n",
    "    peak_height = np.max(cropped_array)\n",
    "    return peak_height"
   ]
  },
  {
   "cell_type": "code",
   "execution_count": 192,
   "metadata": {},
   "outputs": [],
   "source": [
    "def calculate_peak_count(array, peak_bin, peak_halfwidth=25):\n",
    "    peak_count = np.sum(array[peak_bin - peak_halfwidth : peak_bin + peak_halfwidth])\n",
    "    return peak_count"
   ]
  },
  {
   "cell_type": "code",
   "execution_count": 193,
   "metadata": {},
   "outputs": [],
   "source": [
    "def extract_voltage(filename: str) -> int:\n",
    "    string_parts = filename.split('_')[0]\n",
    "    string_parts = string_parts.split('-')\n",
    "    voltage = int(string_parts[2].replace('V', ''))\n",
    "    return voltage"
   ]
  },
  {
   "cell_type": "code",
   "execution_count": 194,
   "metadata": {},
   "outputs": [],
   "source": [
    "def avg_neighbor_counts(df, x_index, y_index, count_type='peak_count'):\n",
    "    sum_counts = 0\n",
    "    neighbor_coords = [(-1, 0), (1, 0), (0, -1), (0, 1)]\n",
    "    neighbor_counter = 0\n",
    "    for dx, dy in neighbor_coords:\n",
    "        nx, ny = x_index + dx, y_index + dy\n",
    "        if (nx in df['x_index'].values) and (ny in df['y_index'].values):\n",
    "            neighbor_counter += 1\n",
    "            sum_counts += df.loc[(df['x_index']==nx) & (df['y_index']==ny), count_type].values[0]\n",
    "    avg_counts = sum_counts / neighbor_counter\n",
    "    return avg_counts"
   ]
  },
  {
   "cell_type": "code",
   "execution_count": 195,
   "metadata": {},
   "outputs": [],
   "source": [
    "# def leaking_ratio(row):\n",
    "#     return row['peak_count'] / row['avg_neighbor_peak_count']"
   ]
  },
  {
   "cell_type": "code",
   "execution_count": 196,
   "metadata": {},
   "outputs": [],
   "source": [
    "source_peak_bins = {\n",
    "    \"Cs137\": 1578,\n",
    "    \"Co57\": 244,\n",
    "    \"Am241\": 57\n",
    "}"
   ]
  },
  {
   "cell_type": "code",
   "execution_count": 197,
   "metadata": {},
   "outputs": [
    {
     "name": "stdout",
     "output_type": "stream",
     "text": [
      "filename_no_ext = 'Am241-30min-1000V_Am241'\n",
      "filename_no_ext = 'Am241-30min-1500V_Am241'\n",
      "filename_no_ext = 'Am241-30min-2000V_Am241'\n",
      "filename_no_ext = 'Co57-30min-1000V_Cs137'\n",
      "filename_no_ext = 'Co57-30min-1500V_Cs137'\n",
      "filename_no_ext = 'Co57-30min-2000V_Cs137'\n",
      "filename_no_ext = 'Cs137-30min-1000V_Cs137'\n",
      "filename_no_ext = 'Cs137-30min-1500V_Cs137'\n",
      "filename_no_ext = 'Cs137-30min-2000V_Cs137'\n"
     ]
    }
   ],
   "source": [
    "directory = r\"module_voltage_data\"\n",
    "csv_files = find_csv_files(directory)\n",
    "# print(csv_files)\n",
    "df_list = []\n",
    "for csv_file in csv_files:\n",
    "    filename = os.path.basename(csv_file)\n",
    "    filename_no_ext = os.path.splitext(filename)[0]\n",
    "    print(f\"{filename_no_ext = }\")\n",
    "    voltage = extract_voltage(filename)\n",
    "    # print(f\"{voltage = }\")\n",
    "\n",
    "    if \"Cs137\" in filename_no_ext:\n",
    "        if \"Co57\" in filename_no_ext:\n",
    "            source = \"Co57\"\n",
    "        else:\n",
    "            source = \"Cs137\"\n",
    "    else:\n",
    "        source = \"Am241\"\n",
    "\n",
    "    EM = ExtractModule(csv_file)\n",
    "    df_h3d = EM.extract_module2df(module_number=0)\n",
    "    TD = TransformDf()\n",
    "    df = TD.transform_df(df_h3d)\n",
    "\n",
    "    df[\"source\"] = source\n",
    "    df[\"voltage\"] = voltage\n",
    "    df[\"is_treated\"] = False\n",
    "    df.loc[(df[\"x_index\"] == 9) & (df[\"y_index\"] == 3), \"is_treated\"] = True\n",
    "    df.loc[(df[\"x_index\"] == 3) & (df[\"y_index\"] == 9), \"is_treated\"] = True\n",
    "    df.loc[(df[\"x_index\"] == 9) & (df[\"y_index\"] == 9), \"is_treated\"] = True\n",
    "\n",
    "    # # avg spectrum use to determine the bin_peak\n",
    "    avg_array_bins = df[\"array_bins\"].sum(axis=0) / 121\n",
    "    avg_peak_bin= find_peak_bin(avg_array_bins, source_peak_bins[source])\n",
    "    df['avg_peak_bin'] = avg_peak_bin\n",
    "    df['avg_peak_height'] = find_peak_height(avg_array_bins, source_peak_bins[source])\n",
    "\n",
    "    df['peak_bin_per_pixel'] = df.apply(lambda row: find_peak_bin(row['array_bins'], \n",
    "                                                        source_peak_bins[source]), axis=1)\n",
    "    \n",
    "    df['peak_height_per_pixel'] = df.apply(lambda row: find_peak_height(row['array_bins'], \n",
    "                                                        source_peak_bins[source]), axis=1)\n",
    "\n",
    "    df = TD.add_peak_counts(df, bin_peak=avg_peak_bin, bin_width=25)\n",
    "\n",
    "    df[\"avg_neighbor_peak_count\"] = df.apply(\n",
    "        lambda row: avg_neighbor_counts(\n",
    "            df, row[\"x_index\"], row[\"y_index\"], \"peak_count\"\n",
    "        ),\n",
    "        axis=1,\n",
    "    )\n",
    "\n",
    "    df[\"leaking_ratio\"] = df.apply(\n",
    "        lambda row: row[\"peak_count\"] / row[\"avg_neighbor_peak_count\"], axis=1\n",
    "    )\n",
    "\n",
    "    df_list.append(df)\n"
   ]
  },
  {
   "cell_type": "code",
   "execution_count": 198,
   "metadata": {},
   "outputs": [
    {
     "name": "stdout",
     "output_type": "stream",
     "text": [
      "(2002,)\n",
      "[ 0  0  0 ...  0 11 11]\n",
      "135\n",
      "11\n"
     ]
    }
   ],
   "source": [
    "# df['array_bins'].values\n",
    "row = df.iloc[120]\n",
    "print(row['array_bins'].shape)\n",
    "print(row['array_bins'])\n",
    "print(find_peak_bin(row['array_bins'], 97))\n",
    "print(find_peak_height(row['array_bins'], 97))\n"
   ]
  },
  {
   "cell_type": "code",
   "execution_count": 199,
   "metadata": {},
   "outputs": [
    {
     "name": "stdout",
     "output_type": "stream",
     "text": [
      "           x_index  y_index  pixel_id  \\\n",
      "H3D_Pixel                               \n",
      "1                1        1         1   \n",
      "2                1        2         2   \n",
      "3                1        3         3   \n",
      "4                1        4         4   \n",
      "5                1        5         5   \n",
      "\n",
      "                                                  array_bins  total_count  \\\n",
      "H3D_Pixel                                                                   \n",
      "1          [0, 0, 0, 0, 0, 0, 0, 0, 0, 0, 0, 0, 0, 0, 0, ...         5981   \n",
      "2          [0, 0, 0, 0, 0, 0, 0, 0, 0, 0, 0, 0, 0, 0, 0, ...         3722   \n",
      "3          [0, 0, 0, 0, 0, 0, 0, 0, 0, 0, 0, 0, 0, 0, 0, ...         3619   \n",
      "4          [0, 0, 0, 0, 0, 0, 0, 0, 0, 0, 0, 0, 0, 0, 0, ...         3483   \n",
      "5          [0, 0, 0, 0, 0, 0, 0, 0, 0, 0, 0, 0, 0, 0, 0, ...         4346   \n",
      "\n",
      "           total_counts_norm  is_edge source  voltage  is_treated  \\\n",
      "H3D_Pixel                                                           \n",
      "1                      0.992     True  Cs137     2000       False   \n",
      "2                      0.617     True  Cs137     2000       False   \n",
      "3                      0.600     True  Cs137     2000       False   \n",
      "4                      0.578     True  Cs137     2000       False   \n",
      "5                      0.721     True  Cs137     2000       False   \n",
      "\n",
      "           avg_peak_bin  avg_peak_height  peak_bin_per_pixel  \\\n",
      "H3D_Pixel                                                      \n",
      "1                  1578         5.049587                1544   \n",
      "2                  1578         5.049587                1580   \n",
      "3                  1578         5.049587                1554   \n",
      "4                  1578         5.049587                1567   \n",
      "5                  1578         5.049587                1550   \n",
      "\n",
      "           peak_height_per_pixel  peak_count  non_peak_count  \\\n",
      "H3D_Pixel                                                      \n",
      "1                              7          75            5906   \n",
      "2                              6          95            3627   \n",
      "3                              4          44            3575   \n",
      "4                              5          76            3407   \n",
      "5                              6         110            4236   \n",
      "\n",
      "           avg_neighbor_peak_count  leaking_ratio  peak_bin  \n",
      "H3D_Pixel                                                    \n",
      "1                        95.000000       0.789474      1544  \n",
      "2                        71.333333       1.331776      1580  \n",
      "3                        88.666667       0.496241      1554  \n",
      "4                        91.000000       0.835165      1567  \n",
      "5                       113.333333       0.970588      1550  \n"
     ]
    }
   ],
   "source": [
    "df['peak_bin'] = df.apply(lambda row: find_peak_bin(row['array_bins'], \n",
    "                                                    source_peak_bins[source]), axis=1)\n",
    "\n",
    "print(df.head())"
   ]
  },
  {
   "cell_type": "code",
   "execution_count": 200,
   "metadata": {},
   "outputs": [],
   "source": [
    "full_df_2 = pd.concat(df_list)"
   ]
  },
  {
   "cell_type": "code",
   "execution_count": 201,
   "metadata": {},
   "outputs": [
    {
     "name": "stdout",
     "output_type": "stream",
     "text": [
      "Index(['x_index', 'y_index', 'pixel_id', 'array_bins', 'total_count',\n",
      "       'total_counts_norm', 'is_edge', 'source', 'voltage', 'is_treated',\n",
      "       'avg_peak_bin', 'avg_peak_height', 'peak_bin_per_pixel',\n",
      "       'peak_height_per_pixel', 'peak_count', 'non_peak_count',\n",
      "       'avg_neighbor_peak_count', 'leaking_ratio', 'peak_bin'],\n",
      "      dtype='object')\n",
      "(1089, 19)\n",
      "<class 'pandas.core.frame.DataFrame'>\n",
      "Index: 1089 entries, 1 to 121\n",
      "Data columns (total 19 columns):\n",
      " #   Column                   Non-Null Count  Dtype  \n",
      "---  ------                   --------------  -----  \n",
      " 0   x_index                  1089 non-null   int32  \n",
      " 1   y_index                  1089 non-null   int32  \n",
      " 2   pixel_id                 1089 non-null   int64  \n",
      " 3   array_bins               1089 non-null   object \n",
      " 4   total_count              1089 non-null   int32  \n",
      " 5   total_counts_norm        1089 non-null   float64\n",
      " 6   is_edge                  1089 non-null   bool   \n",
      " 7   source                   1089 non-null   object \n",
      " 8   voltage                  1089 non-null   int64  \n",
      " 9   is_treated               1089 non-null   bool   \n",
      " 10  avg_peak_bin             1089 non-null   int64  \n",
      " 11  avg_peak_height          1089 non-null   float64\n",
      " 12  peak_bin_per_pixel       1089 non-null   int64  \n",
      " 13  peak_height_per_pixel    1089 non-null   int64  \n",
      " 14  peak_count               1089 non-null   int64  \n",
      " 15  non_peak_count           1089 non-null   int64  \n",
      " 16  avg_neighbor_peak_count  1089 non-null   float64\n",
      " 17  leaking_ratio            1089 non-null   float64\n",
      " 18  peak_bin                 121 non-null    float64\n",
      "dtypes: bool(2), float64(5), int32(3), int64(7), object(2)\n",
      "memory usage: 142.5+ KB\n",
      "None\n"
     ]
    }
   ],
   "source": [
    "# print(full_df.head())\n",
    "print(full_df_2.columns)\n",
    "print(full_df_2.shape)\n",
    "print(full_df_2.info())"
   ]
  },
  {
   "cell_type": "code",
   "execution_count": 202,
   "metadata": {},
   "outputs": [],
   "source": [
    "# remove 'array_bins' column\n",
    "full_df_2 = full_df_2.drop(columns=['array_bins'])"
   ]
  },
  {
   "cell_type": "code",
   "execution_count": 203,
   "metadata": {},
   "outputs": [],
   "source": [
    "full_df_2.to_csv(\"full_df_2.csv\", index=False)"
   ]
  },
  {
   "cell_type": "code",
   "execution_count": 204,
   "metadata": {},
   "outputs": [],
   "source": [
    "full_df_2.to_csv(\"full_df.csv\", index=False)"
   ]
  },
  {
   "cell_type": "code",
   "execution_count": null,
   "metadata": {},
   "outputs": [],
   "source": []
  }
 ],
 "metadata": {
  "kernelspec": {
   "display_name": ".venv",
   "language": "python",
   "name": "python3"
  },
  "language_info": {
   "codemirror_mode": {
    "name": "ipython",
    "version": 3
   },
   "file_extension": ".py",
   "mimetype": "text/x-python",
   "name": "python",
   "nbconvert_exporter": "python",
   "pygments_lexer": "ipython3",
   "version": "3.11.6"
  }
 },
 "nbformat": 4,
 "nbformat_minor": 2
}
